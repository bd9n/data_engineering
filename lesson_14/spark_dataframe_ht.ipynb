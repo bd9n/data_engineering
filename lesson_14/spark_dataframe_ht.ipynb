{
 "cells": [
  {
   "cell_type": "code",
   "execution_count": 3,
   "id": "df89c664-fe9e-4a27-8f70-840b3e26d02e",
   "metadata": {},
   "outputs": [],
   "source": [
    "from pyspark.sql import SparkSession, functions as F, types as T"
   ]
  },
  {
   "cell_type": "code",
   "execution_count": 4,
   "id": "308c5320-4a46-40cd-91b8-e48be3722299",
   "metadata": {},
   "outputs": [],
   "source": [
    "spark = SparkSession.builder.master('local[*]').getOrCreate()"
   ]
  },
  {
   "cell_type": "code",
   "execution_count": 5,
   "id": "d4aca9ae-b147-4650-a5da-8d916dd61f14",
   "metadata": {},
   "outputs": [
    {
     "name": "stdout",
     "output_type": "stream",
     "text": [
      "3.4.1\n"
     ]
    }
   ],
   "source": [
    "print(spark.version)"
   ]
  },
  {
   "cell_type": "code",
   "execution_count": 6,
   "id": "3da7fd18-49d1-468e-8019-f3fa1daac54d",
   "metadata": {},
   "outputs": [],
   "source": [
    "actor_df = spark.read.csv('./data/actor.csv', header=True, inferSchema=True)\n",
    "address_df = spark.read.csv('./data/address.csv', header=True, inferSchema=True)\n",
    "category_df = spark.read.csv('./data/category.csv', header=True, inferSchema=True)\n",
    "city_df = spark.read.csv('./data/city.csv', header=True, inferSchema=True)\n",
    "country_df = spark.read.csv('./data/country.csv', header=True, inferSchema=True)\n",
    "customer_df = spark.read.csv('./data/customer.csv', header=True, inferSchema=True)\n",
    "film_df = spark.read.csv('./data/film.csv', header=True, inferSchema=True)\n",
    "film_actor_df = spark.read.csv('./data/film_actor.csv', header=True, inferSchema=True)\n",
    "film_category_df = spark.read.csv('./data/film_category.csv', header=True, inferSchema=True)\n",
    "inventory_df = spark.read.csv('./data/inventory.csv', header=True, inferSchema=True)\n",
    "language_df = spark.read.csv('./data/language.csv', header=True, inferSchema=True)\n",
    "payment_df = spark.read.csv('./data/payment.csv', header=True, inferSchema=True)\n",
    "rental_df = spark.read.csv('./data/rental.csv', header=True, inferSchema=True)\n",
    "staff_df = spark.read.csv('./data/staff.csv', header=True, inferSchema=True)\n",
    "store_df = spark.read.csv('./data/store.csv', header=True, inferSchema=True)"
   ]
  },
  {
   "cell_type": "code",
   "execution_count": 12,
   "id": "891647ab-4aae-49be-98ea-5daa21a4f2ca",
   "metadata": {},
   "outputs": [
    {
     "name": "stdout",
     "output_type": "stream",
     "text": [
      "+-----------+-----+\n",
      "|       name|count|\n",
      "+-----------+-----+\n",
      "|     Sports|   74|\n",
      "|    Foreign|   73|\n",
      "|     Family|   69|\n",
      "|Documentary|   68|\n",
      "|  Animation|   66|\n",
      "|     Action|   64|\n",
      "|        New|   63|\n",
      "|      Drama|   62|\n",
      "|      Games|   61|\n",
      "|     Sci-Fi|   61|\n",
      "|   Children|   60|\n",
      "|     Comedy|   58|\n",
      "|     Travel|   57|\n",
      "|   Classics|   57|\n",
      "|     Horror|   56|\n",
      "|      Music|   51|\n",
      "+-----------+-----+\n",
      "\n"
     ]
    }
   ],
   "source": [
    "film_with_category_df = film_df.join(film_category_df, \"film_id\")\n",
    "full_category_info_df = film_with_category_df.join(category_df, film_with_category_df.category_id == category_df.category_id)\n",
    "category_counts_df = full_category_info_df.groupBy(\"name\").count()\n",
    "sorted_category_counts_df = category_counts_df.sort(F.desc(\"count\"))\n",
    "sorted_category_counts_df.show()"
   ]
  },
  {
   "cell_type": "code",
   "execution_count": 13,
   "id": "ce911b54-ef7a-42e1-8e9c-fa95113a69f6",
   "metadata": {},
   "outputs": [
    {
     "name": "stdout",
     "output_type": "stream",
     "text": [
      "+----------+-----------+-----+\n",
      "|first_name|  last_name|count|\n",
      "+----------+-----------+-----+\n",
      "|      GINA|  DEGENERES|  753|\n",
      "|   MATTHEW|     CARREY|  678|\n",
      "|      MARY|     KEITEL|  674|\n",
      "|    ANGELA|WITHERSPOON|  654|\n",
      "|    WALTER|       TORN|  640|\n",
      "|     HENRY|      BERRY|  612|\n",
      "|     JAYNE|      NOLTE|  611|\n",
      "|       VAL|     BOLGER|  605|\n",
      "|    SANDRA|     KILMER|  604|\n",
      "|      SEAN|    GUINESS|  599|\n",
      "+----------+-----------+-----+\n",
      "\n"
     ]
    }
   ],
   "source": [
    "rentals_with_film_id = rental_df.join(inventory_df, \"inventory_id\")\n",
    "rentals_with_actors = rentals_with_film_id.join(film_actor_df, \"film_id\")\n",
    "actor_rental_counts = rentals_with_actors.groupBy(\"actor_id\").count()\n",
    "top_actors_df = actor_rental_counts.join(actor_df, \"actor_id\")\n",
    "top_10_actors_df = top_actors_df.sort(F.desc(\"count\")).limit(10)\n",
    "top_10_actors_df.select(\"first_name\", \"last_name\", \"count\").show()"
   ]
  },
  {
   "cell_type": "code",
   "execution_count": 14,
   "id": "299dd96f-99bf-4a59-bff1-7d6815a69c4c",
   "metadata": {},
   "outputs": [
    {
     "name": "stdout",
     "output_type": "stream",
     "text": [
      "+------+-----------------+\n",
      "|  name|     total_amount|\n",
      "+------+-----------------+\n",
      "|Sports|5314.209999999848|\n",
      "+------+-----------------+\n",
      "\n"
     ]
    }
   ],
   "source": [
    "payments_with_inventory = payment_df.join(rental_df, \"rental_id\")\n",
    "payments_with_film = payments_with_inventory.join(inventory_df, \"inventory_id\")\n",
    "payments_with_category = payments_with_film.join(film_category_df, \"film_id\")\n",
    "category_payment_sums = payments_with_category.groupBy(\"category_id\").agg(F.sum(\"amount\").alias(\"total_amount\"))\n",
    "category_payment_with_names = category_payment_sums.join(category_df, \"category_id\")\n",
    "top_category_df = category_payment_with_names.sort(F.desc(\"total_amount\")).limit(1)\n",
    "top_category_df.select(\"name\", \"total_amount\").show()"
   ]
  },
  {
   "cell_type": "code",
   "execution_count": 15,
   "id": "7d583454-62b6-4c8a-af34-c76929279fa7",
   "metadata": {},
   "outputs": [
    {
     "name": "stdout",
     "output_type": "stream",
     "text": [
      "+--------------------+\n",
      "|               title|\n",
      "+--------------------+\n",
      "|      ALICE FANTASIA|\n",
      "|         APOLLO TEEN|\n",
      "|      ARGONAUTS TOWN|\n",
      "|       ARK RIDGEMONT|\n",
      "|ARSENIC INDEPENDENCE|\n",
      "|   BOONDOCK BALLROOM|\n",
      "|       BUTCH PANTHER|\n",
      "|       CATCH AMISTAD|\n",
      "| CHINATOWN GLADIATOR|\n",
      "|      CHOCOLATE DUCK|\n",
      "|COMMANDMENTS EXPRESS|\n",
      "|    CROSSING DIVORCE|\n",
      "|     CROWDS TELEMARK|\n",
      "|    CRYSTAL BREAKING|\n",
      "|          DAZED PUNK|\n",
      "|DELIVERANCE MULHO...|\n",
      "|   FIREHOUSE VIETNAM|\n",
      "|       FLOATS GARDEN|\n",
      "|FRANKENSTEIN STRA...|\n",
      "|  GLADIATOR WESTWARD|\n",
      "+--------------------+\n",
      "only showing top 20 rows\n",
      "\n"
     ]
    }
   ],
   "source": [
    "films_not_in_inventory = film_df.join(inventory_df, \"film_id\", \"left_anti\")\n",
    "films_not_in_inventory.select(\"title\").show()"
   ]
  },
  {
   "cell_type": "code",
   "execution_count": 16,
   "id": "09d4b827-8205-4bf6-b5ab-c1abba5b20a4",
   "metadata": {},
   "outputs": [
    {
     "name": "stdout",
     "output_type": "stream",
     "text": [
      "+----------+---------+-----+\n",
      "|first_name|last_name|count|\n",
      "+----------+---------+-----+\n",
      "|     HELEN|   VOIGHT|    7|\n",
      "|     RALPH|     CRUZ|    5|\n",
      "|    WHOOPI|     HURT|    5|\n",
      "+----------+---------+-----+\n",
      "\n"
     ]
    }
   ],
   "source": [
    "actors_with_categories = film_actor_df.join(film_category_df, \"film_id\")\n",
    "full_category_info = actors_with_categories.join(category_df, actors_with_categories.category_id == category_df.category_id)\n",
    "children_category = full_category_info.filter(full_category_info.name == \"Children\")\n",
    "actor_counts_in_children = children_category.groupBy(\"actor_id\").count()\n",
    "actor_names_with_counts = actor_counts_in_children.join(actor_df, \"actor_id\")\n",
    "top_3_actors_in_children = actor_names_with_counts.sort(F.desc(\"count\")).limit(3)\n",
    "top_3_actors_in_children.select(\"first_name\", \"last_name\", \"count\").show()\n"
   ]
  },
  {
   "cell_type": "code",
   "execution_count": 17,
   "id": "1997f70d-6621-4cb8-bf87-8f8a6de7b1d3",
   "metadata": {},
   "outputs": [],
   "source": [
    "spark.stop()"
   ]
  },
  {
   "cell_type": "code",
   "execution_count": null,
   "id": "3a706e12-c320-4ccb-b5a6-9d7a1ca01f60",
   "metadata": {},
   "outputs": [],
   "source": []
  }
 ],
 "metadata": {
  "kernelspec": {
   "display_name": "Python 3 (ipykernel)",
   "language": "python",
   "name": "python3"
  },
  "language_info": {
   "codemirror_mode": {
    "name": "ipython",
    "version": 3
   },
   "file_extension": ".py",
   "mimetype": "text/x-python",
   "name": "python",
   "nbconvert_exporter": "python",
   "pygments_lexer": "ipython3",
   "version": "3.11.4"
  }
 },
 "nbformat": 4,
 "nbformat_minor": 5
}
